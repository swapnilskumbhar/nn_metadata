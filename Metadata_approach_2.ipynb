{
 "cells": [
  {
   "cell_type": "code",
   "execution_count": 1,
   "id": "8b43dfe3",
   "metadata": {},
   "outputs": [],
   "source": [
    "import numpy\n",
    "import cv2"
   ]
  },
  {
   "cell_type": "code",
   "execution_count": 2,
   "id": "4d4002a1",
   "metadata": {},
   "outputs": [],
   "source": [
    "import random"
   ]
  },
  {
   "cell_type": "code",
   "execution_count": 3,
   "id": "3c24bd35",
   "metadata": {},
   "outputs": [],
   "source": [
    "import matplotlib.pyplot as plt"
   ]
  },
  {
   "cell_type": "code",
   "execution_count": 4,
   "id": "7ffab1ee",
   "metadata": {},
   "outputs": [],
   "source": [
    "from torch.utils.data import Dataset, DataLoader\n",
    "from torchvision.transforms import ToTensor"
   ]
  },
  {
   "cell_type": "code",
   "execution_count": 5,
   "id": "9d1b7658",
   "metadata": {},
   "outputs": [],
   "source": [
    "import torch\n",
    "from torch import nn"
   ]
  },
  {
   "cell_type": "code",
   "execution_count": 6,
   "id": "ff168c81",
   "metadata": {},
   "outputs": [],
   "source": [
    "from fastai.vision.all import *"
   ]
  },
  {
   "cell_type": "code",
   "execution_count": 7,
   "id": "ef5f2485",
   "metadata": {},
   "outputs": [],
   "source": [
    "class custom_dataset(Dataset):\n",
    "    def __init__(self,n):\n",
    "        self.n = n\n",
    "        pass\n",
    "    \n",
    "    def __len__(self):\n",
    "        return self.n\n",
    "    \n",
    "    def __getitem__(self, idx):\n",
    "        img = numpy.zeros((300,300,3))\n",
    "        nc_rgb = {0:0,1:0,2:0}\n",
    "        for nc in range(random.randint(5,14)):\n",
    "            cx = random.randint(30,270)\n",
    "            cy = random.randint(30,270)\n",
    "            center_coordinates = (cx, cy)\n",
    "            radius = random.randint(5,20)\n",
    "            # color in RGB\n",
    "            color = [0,0,0]\n",
    "            color_idx = random.randint(0,2)\n",
    "            color[color_idx] = 1\n",
    "            nc_rgb[color_idx] += 1\n",
    "            thickness = -1\n",
    "            image = cv2.circle(img, center_coordinates, radius, color, thickness)\n",
    "        k =  random.randint(0,2)\n",
    "        image = torch.Tensor(image).permute(2,1,0)\n",
    "        img_1 = torch.zeros((1, 300,300))\n",
    "        img_1[:] = k\n",
    "        return (torch.cat([img_1, image]), torch.tensor(nc_rgb[k],dtype=torch.float32))"
   ]
  },
  {
   "cell_type": "code",
   "execution_count": 8,
   "id": "bfdb1622",
   "metadata": {},
   "outputs": [],
   "source": [
    "batch_size = 128"
   ]
  },
  {
   "cell_type": "code",
   "execution_count": 9,
   "id": "8cd8e8f4",
   "metadata": {},
   "outputs": [],
   "source": [
    "train_dataloader = DataLoader(custom_dataset(8196), batch_size=batch_size, shuffle=True)\n",
    "test_dataloader = DataLoader(custom_dataset(1024), batch_size=batch_size, shuffle=True)"
   ]
  },
  {
   "cell_type": "code",
   "execution_count": 10,
   "id": "89f707a9",
   "metadata": {},
   "outputs": [],
   "source": [
    "class custom_model(nn.Module):\n",
    "    def __init__(self):\n",
    "        super(custom_model, self).__init__()\n",
    "        self.conv_layers = nn.Sequential(\n",
    "        nn.Conv2d(4, 8, 3),\n",
    "        nn.ReLU(),\n",
    "        nn.BatchNorm2d(8),\n",
    "        nn.Conv2d(8, 16, 3, stride=2),\n",
    "        nn.ReLU(),\n",
    "        nn.BatchNorm2d(16),\n",
    "        nn.Conv2d(16, 32, 3, stride=2),\n",
    "        nn.ReLU(),\n",
    "        nn.BatchNorm2d(32),\n",
    "        nn.Conv2d(32, 32, 3, stride=2),\n",
    "        nn.ReLU(),\n",
    "        nn.BatchNorm2d(32),\n",
    "        nn.Conv2d(32, 32, 3, stride=2),\n",
    "        nn.ReLU(),\n",
    "        )\n",
    "        self.linear = nn.Linear(9248,1,bias=True)\n",
    "        \n",
    "    def forward(self, x):\n",
    "        x = self.conv_layers(x)\n",
    "        x = x.view(x.shape[0],-1)\n",
    "        x = self.linear(x).squeeze(1)\n",
    "        return x"
   ]
  },
  {
   "cell_type": "markdown",
   "id": "9dca5963",
   "metadata": {},
   "source": [
    "### Fastai learner class "
   ]
  },
  {
   "cell_type": "code",
   "execution_count": 11,
   "id": "63bfb916",
   "metadata": {},
   "outputs": [],
   "source": [
    "data = DataLoaders(train_dataloader, test_dataloader, device='cuda')"
   ]
  },
  {
   "cell_type": "code",
   "execution_count": 12,
   "id": "603d9714",
   "metadata": {},
   "outputs": [],
   "source": [
    "learn = Learner(data, custom_model(), loss_func=F.mse_loss, opt_func=Adam)"
   ]
  },
  {
   "cell_type": "code",
   "execution_count": 13,
   "id": "87e7df82",
   "metadata": {},
   "outputs": [
    {
     "data": {
      "text/html": [],
      "text/plain": [
       "<IPython.core.display.HTML object>"
      ]
     },
     "metadata": {},
     "output_type": "display_data"
    },
    {
     "data": {
      "text/plain": [
       "SuggestedLRs(lr_min=0.001096478197723627, lr_steep=0.0002290867705596611)"
      ]
     },
     "execution_count": 13,
     "metadata": {},
     "output_type": "execute_result"
    },
    {
     "data": {
      "image/png": "[encoded data removed]",
      "text/plain": [
       "<Figure size 432x288 with 1 Axes>"
      ]
     },
     "metadata": {
      "needs_background": "light"
     },
     "output_type": "display_data"
    }
   ],
   "source": [
    "learn.lr_find()"
   ]
  },
  {
   "cell_type": "code",
   "execution_count": 14,
   "id": "1836742b",
   "metadata": {},
   "outputs": [
    {
     "data": {
      "text/html": [
       "<table border=\"1\" class=\"dataframe\">\n",
       "  <thead>\n",
       "    <tr style=\"text-align: left;\">\n",
       "      <th>epoch</th>\n",
       "      <th>train_loss</th>\n",
       "      <th>valid_loss</th>\n",
       "      <th>time</th>\n",
       "    </tr>\n",
       "  </thead>\n",
       "  <tbody>\n",
       "    <tr>\n",
       "      <td>0</td>\n",
       "      <td>3.791472</td>\n",
       "      <td>3.421913</td>\n",
       "      <td>00:28</td>\n",
       "    </tr>\n",
       "    <tr>\n",
       "      <td>1</td>\n",
       "      <td>1.863721</td>\n",
       "      <td>1.191887</td>\n",
       "      <td>00:29</td>\n",
       "    </tr>\n",
       "    <tr>\n",
       "      <td>2</td>\n",
       "      <td>1.262247</td>\n",
       "      <td>1.137407</td>\n",
       "      <td>00:28</td>\n",
       "    </tr>\n",
       "    <tr>\n",
       "      <td>3</td>\n",
       "      <td>1.056918</td>\n",
       "      <td>0.739526</td>\n",
       "      <td>00:28</td>\n",
       "    </tr>\n",
       "    <tr>\n",
       "      <td>4</td>\n",
       "      <td>0.748010</td>\n",
       "      <td>0.741453</td>\n",
       "      <td>00:28</td>\n",
       "    </tr>\n",
       "    <tr>\n",
       "      <td>5</td>\n",
       "      <td>0.590285</td>\n",
       "      <td>0.417444</td>\n",
       "      <td>00:28</td>\n",
       "    </tr>\n",
       "    <tr>\n",
       "      <td>6</td>\n",
       "      <td>0.520076</td>\n",
       "      <td>0.444379</td>\n",
       "      <td>00:28</td>\n",
       "    </tr>\n",
       "    <tr>\n",
       "      <td>7</td>\n",
       "      <td>0.448227</td>\n",
       "      <td>0.394300</td>\n",
       "      <td>00:28</td>\n",
       "    </tr>\n",
       "    <tr>\n",
       "      <td>8</td>\n",
       "      <td>0.413128</td>\n",
       "      <td>0.306632</td>\n",
       "      <td>00:28</td>\n",
       "    </tr>\n",
       "    <tr>\n",
       "      <td>9</td>\n",
       "      <td>0.353999</td>\n",
       "      <td>0.338031</td>\n",
       "      <td>00:28</td>\n",
       "    </tr>\n",
       "  </tbody>\n",
       "</table>"
      ],
      "text/plain": [
       "<IPython.core.display.HTML object>"
      ]
     },
     "metadata": {},
     "output_type": "display_data"
    }
   ],
   "source": [
    "learn.fit_one_cycle(10, 1e-3)"
   ]
  },
  {
   "cell_type": "code",
   "execution_count": 26,
   "id": "83b6fc61",
   "metadata": {},
   "outputs": [
    {
     "data": {
      "text/plain": [
       "Path('models/nn_metadata_appoach_2_8k.pth.pth')"
      ]
     },
     "execution_count": 26,
     "metadata": {},
     "output_type": "execute_result"
    }
   ],
   "source": [
    "learn.save('nn_metadata_appoach_2_8k.pth')"
   ]
  },
  {
   "cell_type": "code",
   "execution_count": 27,
   "id": "37836711",
   "metadata": {},
   "outputs": [],
   "source": [
    "test_features, test_labels = next(iter(test_dataloader))"
   ]
  },
  {
   "cell_type": "code",
   "execution_count": 28,
   "id": "deb161e8",
   "metadata": {},
   "outputs": [],
   "source": [
    "x, y = next(iter(test_dataloader))\n",
    "im = x[71]"
   ]
  },
  {
   "cell_type": "code",
   "execution_count": 29,
   "id": "1f12f211",
   "metadata": {},
   "outputs": [],
   "source": [
    "img_1 = im[0,:,:]"
   ]
  },
  {
   "cell_type": "code",
   "execution_count": 30,
   "id": "6c7ecc18",
   "metadata": {},
   "outputs": [],
   "source": [
    "im = im[1:,:,:]"
   ]
  },
  {
   "cell_type": "code",
   "execution_count": 31,
   "id": "fd369dad",
   "metadata": {},
   "outputs": [
    {
     "data": {
      "text/plain": [
       "<matplotlib.image.AxesImage at 0x7f09c15f4d50>"
      ]
     },
     "execution_count": 31,
     "metadata": {},
     "output_type": "execute_result"
    },
    {
     "data": {
      "image/png": "[encoded data removed]",
      "text/plain": [
       "<Figure size 432x288 with 1 Axes>"
      ]
     },
     "metadata": {
      "needs_background": "light"
     },
     "output_type": "display_data"
    }
   ],
   "source": [
    "plt.imshow(im.cpu().permute(2,1,0))"
   ]
  },
  {
   "cell_type": "code",
   "execution_count": 32,
   "id": "5805b994",
   "metadata": {},
   "outputs": [
    {
     "name": "stdout",
     "output_type": "stream",
     "text": [
      "4.155447006225586\n"
     ]
    }
   ],
   "source": [
    "#Red\n",
    "img_1[:] = 0\n",
    "print(learn.model(torch.cat([img_1.unsqueeze(0), im]).unsqueeze(0)).item())"
   ]
  },
  {
   "cell_type": "code",
   "execution_count": 33,
   "id": "1cc067b6",
   "metadata": {},
   "outputs": [
    {
     "name": "stdout",
     "output_type": "stream",
     "text": [
      "1.3724888563156128\n"
     ]
    }
   ],
   "source": [
    "#Green\n",
    "img_1[:] = 1\n",
    "print(learn.model(torch.cat([img_1.unsqueeze(0), im]).unsqueeze(0)).item())"
   ]
  },
  {
   "cell_type": "code",
   "execution_count": 34,
   "id": "23a6ee2e",
   "metadata": {},
   "outputs": [
    {
     "name": "stdout",
     "output_type": "stream",
     "text": [
      "6.411185264587402\n"
     ]
    }
   ],
   "source": [
    "#Blue\n",
    "img_1[:] = 2\n",
    "print(learn.model(torch.cat([img_1.unsqueeze(0), im]).unsqueeze(0)).item())"
   ]
  },
  {
   "cell_type": "code",
   "execution_count": 35,
   "id": "339549d1",
   "metadata": {},
   "outputs": [],
   "source": [
    "def test_by_changing_metadata():\n",
    "    figure = plt.figure(figsize=(11, 11))\n",
    "    cols, rows = 3,5\n",
    "    col_dict = {0:'red',1:'green',2:'blue'}\n",
    "    x,y = next(iter(train_dataloader))\n",
    "    counter=1\n",
    "    for i in range(1, rows + 1):\n",
    "        im = x[random.randint(0,127)]\n",
    "        img_1 = im[0,:,:]\n",
    "        im = im[1:,:,:]\n",
    "        for j in range(1,cols+1):\n",
    "            img_1[:] = j - 1\n",
    "            pred = learn.model(torch.cat([img_1.unsqueeze(0), im]).unsqueeze(0)).item()\n",
    "            figure.add_subplot(rows, cols, counter)\n",
    "            counter+=1\n",
    "            plt.title(f\"{pred:.2f}, {col_dict[j-1]}\")\n",
    "            plt.axis(\"off\")\n",
    "            plt.imshow(im.cpu().permute(2,1,0))\n",
    "    plt.show()"
   ]
  },
  {
   "cell_type": "code",
   "execution_count": 36,
   "id": "e3e913b9",
   "metadata": {},
   "outputs": [
    {
     "data": {
      "image/png": "[encoded data removed]",
      "text/plain": [
       "<Figure size 792x792 with 15 Axes>"
      ]
     },
     "metadata": {
      "needs_background": "light"
     },
     "output_type": "display_data"
    }
   ],
   "source": [
    "test_by_changing_metadata()"
   ]
  },
  {
   "cell_type": "code",
   "execution_count": null,
   "id": "cecc4e82",
   "metadata": {},
   "outputs": [],
   "source": []
  }
 ],
 "metadata": {
  "kernelspec": {
   "display_name": "Python 3",
   "language": "python",
   "name": "python3"
  },
  "language_info": {
   "codemirror_mode": {
    "name": "ipython",
    "version": 3
   },
   "file_extension": ".py",
   "mimetype": "text/x-python",
   "name": "python",
   "nbconvert_exporter": "python",
   "pygments_lexer": "ipython3",
   "version": "3.7.10"
  }
 },
 "nbformat": 4,
 "nbformat_minor": 5
}
